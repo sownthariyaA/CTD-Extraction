{
  "nbformat": 4,
  "nbformat_minor": 0,
  "metadata": {
    "colab": {
      "provenance": []
    },
    "kernelspec": {
      "name": "python3",
      "display_name": "Python 3"
    },
    "language_info": {
      "name": "python"
    }
  },
  "cells": [
    {
      "cell_type": "code",
      "execution_count": null,
      "metadata": {
        "colab": {
          "base_uri": "https://localhost:8080/"
        },
        "id": "z3i8mXJ8deWp",
        "outputId": "904c8bc3-d4e1-4fed-d9c0-c70cd4c5d9cc"
      },
      "outputs": [
        {
          "output_type": "stream",
          "name": "stdout",
          "text": [
            "Drive already mounted at /content/drive/; to attempt to forcibly remount, call drive.mount(\"/content/drive/\", force_remount=True).\n"
          ]
        }
      ],
      "source": [
        "from google.colab import drive\n",
        "drive.mount ('/content/drive/')\n",
        "import pandas as pd\n",
        "import numpy as np\n",
        "import re\n",
        "import os\n",
        "folder_path = '/content/drive/MyDrive/txt_folder/'"
      ]
    },
    {
      "cell_type": "code",
      "source": [
        "import os\n",
        "import re\n",
        "\n",
        "# Function to extract the output values from lines 9, 10, and 11\n",
        "def extract_output_values(description):\n",
        "    output_values = []\n",
        "    lines = description.split(\"\\n\")\n",
        "    for line in lines[8:11]:  # Extract values from lines 9, 10, and 11 (index 8, 9, 10)\n",
        "        value_match = re.search(r\"= (.+)\", line)\n",
        "        if value_match:\n",
        "            output_values.append(value_match.group(1).strip())\n",
        "    return output_values\n",
        "\n",
        "# Function to read the content from files in the folder and extract output values\n",
        "def read_folder_and_extract_values(folder_path):\n",
        "    output_values_folder = []\n",
        "\n",
        "    file_list = os.listdir(folder_path)\n",
        "    sorted_file_list = sorted(file_list)\n",
        "\n",
        "    for filename in file_list:\n",
        "        file_path = os.path.join(folder_path, filename)\n",
        "\n",
        "        with open(file_path, \"r\", encoding=\"utf-8\", errors=\"ignore\") as file:\n",
        "            content = file.read()\n",
        "            output_values = extract_output_values(content)\n",
        "            output_values_folder.append(output_values)\n",
        "\n",
        "    return output_values_folder\n",
        "\n",
        "# Function to store extracted values in a separate folder\n",
        "def store_values_in_separate_folder(output_values_folder, output_folder_path):\n",
        "    os.makedirs(output_folder_path, exist_ok=True)\n",
        "\n",
        "    for i, output_values in enumerate(output_values_folder, start=1):\n",
        "        output_file_path = os.path.join(output_folder_path, f\"output_file_{i}.txt\")\n",
        "        with open(output_file_path, \"w\", encoding=\"utf-8\") as output_file:\n",
        "            output_file.write(\"\\n\".join(output_values))\n",
        "\n",
        "# Replace \"path_to_input_folder\" with the actual folder path containing your files\n",
        "input_folder_path = \"/content/drive/MyDrive/txt_folder/\"\n",
        "output_folder_path = \"/content/drive/MyDrive/data_info\"\n",
        "\n",
        "# Read the content from files in the input folder and extract output values\n",
        "output_values_folder = read_folder_and_extract_values(input_folder_path)\n",
        "\n",
        "# Store the extracted values in a separate folder\n",
        "store_values_in_separate_folder(output_values_folder, output_folder_path)\n",
        "\n",
        "print(\"Extraction and Storage Completed.\")"
      ],
      "metadata": {
        "colab": {
          "base_uri": "https://localhost:8080/"
        },
        "id": "UKu2xwMeRfv-",
        "outputId": "9cf32662-f1fd-4f87-ac84-42a4d33fa095"
      },
      "execution_count": null,
      "outputs": [
        {
          "output_type": "stream",
          "name": "stdout",
          "text": [
            "Extraction and Storage Completed.\n"
          ]
        }
      ]
    }
  ]
}
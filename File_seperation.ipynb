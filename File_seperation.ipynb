{
  "nbformat": 4,
  "nbformat_minor": 0,
  "metadata": {
    "colab": {
      "provenance": []
    },
    "kernelspec": {
      "name": "python3",
      "display_name": "Python 3"
    },
    "language_info": {
      "name": "python"
    }
  },
  "cells": [
    {
      "cell_type": "code",
      "execution_count": null,
      "metadata": {
        "colab": {
          "base_uri": "https://localhost:8080/"
        },
        "id": "tXDTmej7xYlS",
        "outputId": "01161e23-7602-49b5-bb21-10845ad54417"
      },
      "outputs": [
        {
          "output_type": "stream",
          "name": "stdout",
          "text": [
            "Drive already mounted at /content/drive/; to attempt to forcibly remount, call drive.mount(\"/content/drive/\", force_remount=True).\n"
          ]
        }
      ],
      "source": [
        "from google.colab import drive\n",
        "drive.mount ('/content/drive/')\n",
        "import pandas as pd\n",
        "import numpy as np\n",
        "import re\n",
        "import os\n",
        "folder_path = '/content/drive/MyDrive/data collection/'"
      ]
    },
    {
      "cell_type": "code",
      "source": [
        "import os\n",
        "import shutil\n",
        "\n",
        "# Replace \"path_to_your_folder\" with the actual folder path containing your files\n",
        "input_folder_path = \"/content/drive/MyDrive/data collection/\"\n",
        "txt_folder_path = \"/content/drive/MyDrive/txt_folder\"\n",
        "cnv_folder_path = \"/content/drive/MyDrive/cnv_folder\"\n",
        "\n",
        "# Create separate folders for TXT and CNV files\n",
        "os.makedirs(txt_folder_path, exist_ok=True)\n",
        "os.makedirs(cnv_folder_path, exist_ok=True)\n",
        "\n",
        "# Loop through the files in the input folder\n",
        "file_list = os.listdir(input_folder_path)\n",
        "\n",
        "for filename in file_list:\n",
        "    file_path = os.path.join(input_folder_path, filename)\n",
        "\n",
        "    # Check if the file has a \".txt\" extension (case-insensitive)\n",
        "    if filename.lower().endswith(\".txt\"):\n",
        "        # Copy TXT file to the TXT folder\n",
        "        shutil.copy(file_path, os.path.join(txt_folder_path, filename))\n",
        "\n",
        "    # Check if the file has a \".cnv\" extension (case-insensitive)\n",
        "    elif filename.lower().endswith(\".cnv\"):\n",
        "        # Copy CNV file to the CNV folder\n",
        "        shutil.copy(file_path, os.path.join(cnv_folder_path, filename))\n",
        "\n",
        "print(\"Files separated into TXT and CNV folders.\")\n"
      ],
      "metadata": {
        "colab": {
          "base_uri": "https://localhost:8080/"
        },
        "id": "eV0ZxUu6AE_7",
        "outputId": "c44acd92-e226-4895-becd-e5eb1176bbb9"
      },
      "execution_count": null,
      "outputs": [
        {
          "output_type": "stream",
          "name": "stdout",
          "text": [
            "Files separated into TXT and CNV folders.\n"
          ]
        }
      ]
    },
    {
      "cell_type": "code",
      "source": [],
      "metadata": {
        "id": "WoMb_Y0XC63T"
      },
      "execution_count": null,
      "outputs": []
    }
  ]
}